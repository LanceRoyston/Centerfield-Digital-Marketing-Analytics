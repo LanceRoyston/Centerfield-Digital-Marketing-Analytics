{
 "cells": [
  {
   "cell_type": "markdown",
   "id": "37c7ce2d-390c-429d-905c-10d0b1c58637",
   "metadata": {},
   "source": [
    # Marketing Data Randomization Script

This script processes a provided CSV file (`Marketing.csv`) containing marketing data for the month of February. It generates randomized data within a reasonable range to simulate marketing data for the subsequent five months (March to June). The final combined dataset is saved as a new CSV file.
   ]
  },
  {
   "cell_type": "code",
   "execution_count": 1,
   "id": "dd202cd6-6689-4677-bf1a-79051af52760",
   "metadata": {},
   "outputs": [],
   "source": [
    "import pandas as pd\n",
    "import numpy as np\n",
    "\n",
    "# Load the CSV file\n",
    "file_path = 'Marketing.csv'\n",
    "df_february = pd.read_csv(file_path)\n",
    "\n",
    "# Function to generate random data within a reasonable range\n",
    "def randomize_data(df, month):\n",
    "    new_df = df.copy()\n",
    "    new_df['c_date'] = new_df['c_date'].apply(lambda x: f\"{month}/{x.split('/')[1]}/{x.split('/')[2]}\")\n",
    "    new_df['impressions'] = new_df['impressions'].apply(lambda x: int(x * np.random.uniform(0.8, 1.2)))\n",
    "    new_df['mark_spent'] = new_df['mark_spent'].apply(lambda x: round(x * np.random.uniform(0.8, 1.2), 2))\n",
    "    new_df['clicks'] = new_df['clicks'].apply(lambda x: int(x * np.random.uniform(0.8, 1.2)))\n",
    "    new_df['leads'] = new_df['leads'].apply(lambda x: int(x * np.random.uniform(0.8, 1.2)))\n",
    "    new_df['orders'] = new_df['orders'].apply(lambda x: int(x * np.random.uniform(0.8, 1.2)))\n",
    "    new_df['revenue'] = new_df['revenue'].apply(lambda x: int(x * np.random.uniform(0.8, 1.2)))\n",
    "    return new_df\n",
    "\n",
    "# Generate data for months 1-6\n",
    "dfs = [randomize_data(df_february, month) for month in range(1, 7)]\n",
    "\n",
    "# Concatenate all the dataframes\n",
    "df_combined = pd.concat(dfs, ignore_index=True)\n",
    "\n",
    "# Save the combined dataframe to a new CSV file\n",
    "output_file_path = '/Users/lanceroyston/Downloads/JOB/Projects/Digital Marketing/Marketing_Jan_Jun.csv'\n",
    "df_combined.to_csv(output_file_path, index=False)\n"
   ]
  },
  {
   "cell_type": "code",
   "execution_count": null,
   "id": "08569379-5175-40c6-9c1e-dbc7c7de2e87",
   "metadata": {},
   "outputs": [],
   "source": [
    "\n"
   ]
  }
 ],
 "metadata": {
  "kernelspec": {
   "display_name": "Python 3 (ipykernel)",
   "language": "python",
   "name": "python3"
  },
  "language_info": {
   "codemirror_mode": {
    "name": "ipython",
    "version": 3
   },
   "file_extension": ".py",
   "mimetype": "text/x-python",
   "name": "python",
   "nbconvert_exporter": "python",
   "pygments_lexer": "ipython3",
   "version": "3.11.0"
  }
 },
 "nbformat": 4,
 "nbformat_minor": 5
}
