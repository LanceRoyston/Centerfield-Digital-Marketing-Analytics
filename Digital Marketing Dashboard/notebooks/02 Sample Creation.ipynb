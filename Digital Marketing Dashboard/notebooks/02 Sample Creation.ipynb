{
 "cells": [
  {
   "cell_type": "markdown",
   "id": "37c7ce2d-390c-429d-905c-10d0b1c58637",
   "metadata": {},
   "source": [
    "### Project Overview: Ad Campaign Performance Analysis and Reporting\n",
    "\n",
    "This project aims to analyze ad campaign performance data, automate reporting processes, and create interactive dashboards to provide actionable insights for the Media Buying team. The project involves data cleaning, analysis, and visualization using Python and Excel.\n",
    "\n",
    "### Python Script Overview\n",
    "\n",
    "#### Data Cleaning and Preparation\n",
    "- **Load Dataset:** Import the marketing data from a CSV file.\n",
    "- **Data Cleaning:** Handle missing values and correct data types.\n",
    "- **Calculated Fields:** Create additional fields such as CPC (Cost Per Click) and CTR (Click-Through Rate) for deeper analysis.\n",
    "\n",
    "#### Data Analysis\n",
    "- **Exploratory Data Analysis (EDA):** Perform initial data exploration to understand the distribution of key metrics such as impressions, clicks, and revenue.\n",
    "- **Statistical Summary:** Generate summary statistics to identify trends and patterns in the data.\n",
    "\n",
    "#### Visualization\n",
    "- **Interactive Dashboards:** Create visualizations using Excel and Tableau to display key KPIs and trends. Ensure the dashboards are interactive and user-friendly, allowing for dynamic filtering and drill-downs.\n",
    "\n",
    "#### Insights and Recommendations\n",
    "- **Trend Analysis:** Identify top-performing campaigns, analyze trends over time, and compare performance across different categories.\n",
    "- **Actionable Insights:** Provide recommendations to optimize ad spend, improve click-through rates, and increase conversions based on the analysis.\n",
    "\n",
    "This project showcases the ability to handle large datasets, automate reporting processes, and provide meaningful insights through interactive dashboards, aligning with the responsibilities of a Digital Reporting Analyst."
   ]
  },
  {
   "cell_type": "code",
   "execution_count": 1,
   "id": "dd202cd6-6689-4677-bf1a-79051af52760",
   "metadata": {},
   "outputs": [],
   "source": [
    "import pandas as pd\n",
    "import numpy as np\n",
    "\n",
    "# Load the CSV file\n",
    "file_path = 'Marketing.csv'\n",
    "df_february = pd.read_csv(file_path)\n",
    "\n",
    "# Function to generate random data within a reasonable range\n",
    "def randomize_data(df, month):\n",
    "    new_df = df.copy()\n",
    "    new_df['c_date'] = new_df['c_date'].apply(lambda x: f\"{month}/{x.split('/')[1]}/{x.split('/')[2]}\")\n",
    "    new_df['impressions'] = new_df['impressions'].apply(lambda x: int(x * np.random.uniform(0.8, 1.2)))\n",
    "    new_df['mark_spent'] = new_df['mark_spent'].apply(lambda x: round(x * np.random.uniform(0.8, 1.2), 2))\n",
    "    new_df['clicks'] = new_df['clicks'].apply(lambda x: int(x * np.random.uniform(0.8, 1.2)))\n",
    "    new_df['leads'] = new_df['leads'].apply(lambda x: int(x * np.random.uniform(0.8, 1.2)))\n",
    "    new_df['orders'] = new_df['orders'].apply(lambda x: int(x * np.random.uniform(0.8, 1.2)))\n",
    "    new_df['revenue'] = new_df['revenue'].apply(lambda x: int(x * np.random.uniform(0.8, 1.2)))\n",
    "    return new_df\n",
    "\n",
    "# Generate data for months 1-6\n",
    "dfs = [randomize_data(df_february, month) for month in range(1, 7)]\n",
    "\n",
    "# Concatenate all the dataframes\n",
    "df_combined = pd.concat(dfs, ignore_index=True)\n",
    "\n",
    "# Save the combined dataframe to a new CSV file\n",
    "output_file_path = '/Users/lanceroyston/Downloads/JOB/Projects/Digital Marketing/Marketing_Jan_Jun.csv'\n",
    "df_combined.to_csv(output_file_path, index=False)\n"
   ]
  },
  {
   "cell_type": "code",
   "execution_count": null,
   "id": "08569379-5175-40c6-9c1e-dbc7c7de2e87",
   "metadata": {},
   "outputs": [],
   "source": [
    "\n"
   ]
  }
 ],
 "metadata": {
  "kernelspec": {
   "display_name": "Python 3 (ipykernel)",
   "language": "python",
   "name": "python3"
  },
  "language_info": {
   "codemirror_mode": {
    "name": "ipython",
    "version": 3
   },
   "file_extension": ".py",
   "mimetype": "text/x-python",
   "name": "python",
   "nbconvert_exporter": "python",
   "pygments_lexer": "ipython3",
   "version": "3.11.0"
  }
 },
 "nbformat": 4,
 "nbformat_minor": 5
}
